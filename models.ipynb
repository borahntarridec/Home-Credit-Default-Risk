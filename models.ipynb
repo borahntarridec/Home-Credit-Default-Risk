{
 "cells": [
  {
   "cell_type": "markdown",
   "metadata": {},
   "source": [
    "# MODELING"
   ]
  },
  {
   "cell_type": "code",
   "execution_count": 1,
   "metadata": {},
   "outputs": [],
   "source": [
    "import os\n",
    "import pandas as pd\n",
    "\n",
    "from feature_engineering import *\n",
    "from lightgbm import LGBMClassifier\n",
    "from catboost import CatBoostClassifier, Pool, cv\n",
    "from sklearn.metrics import roc_auc_score, roc_curve\n",
    "from sklearn.model_selection import KFold, StratifiedKFold\n",
    "from sklearn.ensemble import RandomForestClassifier\n",
    "from sklearn.model_selection import train_test_split"
   ]
  },
  {
   "cell_type": "code",
   "execution_count": 2,
   "metadata": {},
   "outputs": [],
   "source": [
    "DATA_PATH = '../HomeCreditDefaultRisk/Data'"
   ]
  },
  {
   "cell_type": "code",
   "execution_count": 3,
   "metadata": {},
   "outputs": [],
   "source": [
    "tables = [pd.read_csv(os.path.join(DATA_PATH, table)) for table in os.listdir(DATA_PATH) if table.endswith('csv.zip')]\n",
    "ins, prev, bureau, bb, df, cc, test_df, pos = tables"
   ]
  },
  {
   "cell_type": "code",
   "execution_count": 4,
   "metadata": {},
   "outputs": [
    {
     "name": "stderr",
     "output_type": "stream",
     "text": [
      "/home/ec2-user/Notebooks/Home-Credit-Default-Risk/feature_engineering.py:327: SettingWithCopyWarning: \n",
      "A value is trying to be set on a copy of a slice from a DataFrame\n",
      "\n",
      "See the caveats in the documentation: http://pandas.pydata.org/pandas-docs/stable/indexing.html#indexing-view-versus-copy\n",
      "  cc['AMT_DRAWINGS_ATM_CURRENT'][cc['AMT_DRAWINGS_ATM_CURRENT'] < 0] = np.nan\n",
      "/home/ec2-user/Notebooks/Home-Credit-Default-Risk/feature_engineering.py:328: SettingWithCopyWarning: \n",
      "A value is trying to be set on a copy of a slice from a DataFrame\n",
      "\n",
      "See the caveats in the documentation: http://pandas.pydata.org/pandas-docs/stable/indexing.html#indexing-view-versus-copy\n",
      "  cc['AMT_DRAWINGS_CURRENT'][cc['AMT_DRAWINGS_CURRENT'] < 0] = np.nan\n"
     ]
    }
   ],
   "source": [
    "# EXECUTE FE\n",
    "\n",
    "limit = None\n",
    "\n",
    "app_train = application_train_test(df, test_df, nan_as_category = False, limit=limit)\n",
    "bureau_agg = bureau_and_balance(bureau, bb, nan_as_category = True, limit=limit)\n",
    "prev_agg = previous_applications(prev, nan_as_category = True, limit=limit)\n",
    "pos_agg = pos_cash(pos, nan_as_category = True, limit=limit)\n",
    "ins_agg = installments_payments(ins, nan_as_category = True, limit=limit)\n",
    "cc_agg = credit_card_balance(cc, nan_as_category = True, limit=limit)"
   ]
  },
  {
   "cell_type": "code",
   "execution_count": 5,
   "metadata": {},
   "outputs": [],
   "source": [
    "pos_agg = pos_agg.reset_index()\n",
    "ins_agg = ins_agg.reset_index()\n",
    "cc_agg = cc_agg.reset_index()"
   ]
  },
  {
   "cell_type": "code",
   "execution_count": 6,
   "metadata": {},
   "outputs": [],
   "source": [
    "# MERGE ALL\n",
    "\n",
    "def merge(df,bureau_agg,prev_agg,ins_agg,pos_agg,cc_agg):\n",
    "    \n",
    "    df = (df\n",
    "           .merge(bureau_agg, how='left', on='SK_ID_CURR')\n",
    "           .merge(prev_agg, how='left', on='SK_ID_CURR')\n",
    "           .merge(pos_agg, how='left', on='SK_ID_CURR')\n",
    "           .merge(ins_agg, how='left', on='SK_ID_CURR')\n",
    "           .merge(cc_agg, how='left', on='SK_ID_CURR')\n",
    "          )\n",
    "    \n",
    "    del bureau_agg\n",
    "    del prev_agg\n",
    "    del pos_agg\n",
    "    del ins_agg\n",
    "    del cc_agg\n",
    "    \n",
    "    return df"
   ]
  },
  {
   "cell_type": "code",
   "execution_count": 7,
   "metadata": {},
   "outputs": [],
   "source": [
    "# Merge all sources\n",
    "app_train = merge(app_train, bureau_agg, prev_agg, ins_agg, pos_agg, cc_agg)"
   ]
  },
  {
   "cell_type": "code",
   "execution_count": 8,
   "metadata": {},
   "outputs": [],
   "source": [
    "# Share of mising values\n",
    "app_train['SHARE_NAN'] = app_train.isnull().sum(axis=1) / app_train.shape[1]"
   ]
  },
  {
   "cell_type": "code",
   "execution_count": 9,
   "metadata": {},
   "outputs": [],
   "source": [
    "# Split train and test\n",
    "\n",
    "train_df = app_train[app_train['TARGET'].notnull()]\n",
    "test_df = app_train[app_train['TARGET'].isnull()]\n",
    "del app_train"
   ]
  },
  {
   "cell_type": "code",
   "execution_count": 10,
   "metadata": {},
   "outputs": [],
   "source": [
    "# Fillna by a single value to give a signal\n",
    "\n",
    "train_df.replace([np.inf, -np.inf], np.nan, inplace=True)\n",
    "test_df.replace([np.inf, -np.inf], np.nan, inplace=True)\n",
    "\n",
    "train_df.fillna(-1, inplace=True)\n",
    "test_df.fillna(-1, inplace=True)\n",
    "\n",
    "assert train_df.isnull().sum().sum() == test_df.isnull().sum().sum() == 0"
   ]
  },
  {
   "cell_type": "markdown",
   "metadata": {},
   "source": [
    "### Evaluation\n",
    "#### LIGHTGBM"
   ]
  },
  {
   "cell_type": "raw",
   "metadata": {},
   "source": [
    "# Sample to test models\n",
    "train_df = train_df[:10000]\n",
    "test_df = test_df[:5000]"
   ]
  },
  {
   "cell_type": "code",
   "execution_count": 20,
   "metadata": {},
   "outputs": [],
   "source": [
    "def kfold(train_df, test_df, num_folds, stratified = False, submission=True):\n",
    "\n",
    "    print(\"Starting LightGBM. Train shape: {}, test shape: {}\".format(train_df.shape, test_df.shape))\n",
    "\n",
    "    folds = KFold(n_splits= num_folds, shuffle=True, random_state=47)\n",
    "    \n",
    "    feats = [f for f in train_df.columns if f not in ['TARGET','SK_ID_CURR','SK_ID_BUREAU','SK_ID_PREV','index']]\n",
    "        \n",
    "    # Create arrays and dataframes to store results\n",
    "    oof_preds = np.zeros(train_df.shape[0])\n",
    "    sub_preds = np.zeros(test_df.shape[0])\n",
    "        \n",
    "    for n_fold, (train_idx, valid_idx) in enumerate(folds.split(train_df[feats], train_df['TARGET'])):\n",
    "        train_x, train_y = train_df[feats].iloc[train_idx], train_df['TARGET'].iloc[train_idx]\n",
    "        valid_x, valid_y = train_df[feats].iloc[valid_idx], train_df['TARGET'].iloc[valid_idx]\n",
    "        \n",
    "        # LightGBM parameters found by Bayesian optimization\n",
    "        clf = LGBMClassifier(\n",
    "            nthread=4,\n",
    "            #is_unbalance=True,\n",
    "            n_estimators=10000,\n",
    "            learning_rate=0.02,\n",
    "            num_leaves=32,\n",
    "            colsample_bytree=0.9497036,\n",
    "            subsample=0.8715623,\n",
    "            max_depth=8,\n",
    "            reg_alpha=0.04,\n",
    "            reg_lambda=0.073,\n",
    "            min_split_gain=0.0222415,\n",
    "            min_child_weight=40,\n",
    "            silent=-1,\n",
    "            verbose=-1,\n",
    "            #scale_pos_weight=11\n",
    "            )\n",
    "\n",
    "        clf.fit(train_x, train_y, eval_set=[(train_x, train_y), (valid_x, valid_y)], \n",
    "            eval_metric= 'auc', verbose= 100, early_stopping_rounds= 200)\n",
    "\n",
    "        oof_preds[valid_idx] = clf.predict_proba(valid_x, num_iteration=clf.best_iteration_)[:, 1]\n",
    "        sub_preds += clf.predict_proba(test_df[feats], num_iteration=clf.best_iteration_)[:, 1] / folds.n_splits\n",
    "        \n",
    "        print('Fold %2d AUC : %.6f' % (n_fold + 1, roc_auc_score(valid_y, oof_preds[valid_idx])))\n",
    "        \n",
    "        del train_x, train_y, valid_x, valid_y\n",
    "        gc.collect()\n",
    "\n",
    "    print('Full AUC score %.6f' % roc_auc_score(train_df['TARGET'], oof_preds))\n",
    "    if submission:\n",
    "        test_df['TARGET'] = sub_preds\n",
    "        test_df[['SK_ID_CURR', 'TARGET']].to_csv(\"../HomeCreditDefaultRisk/Data/submissions.csv\", index= False)"
   ]
  },
  {
   "cell_type": "code",
   "execution_count": 21,
   "metadata": {},
   "outputs": [
    {
     "name": "stdout",
     "output_type": "stream",
     "text": [
      "Starting LightGBM. Train shape: (307507, 735), test shape: (48744, 735)\n",
      "Training until validation scores don't improve for 200 rounds.\n",
      "[100]\ttraining's auc: 0.755297\tvalid_1's auc: 0.747522\n",
      "[200]\ttraining's auc: 0.779459\tvalid_1's auc: 0.765235\n",
      "[300]\ttraining's auc: 0.798199\tvalid_1's auc: 0.777609\n",
      "[400]\ttraining's auc: 0.810347\tvalid_1's auc: 0.783229\n",
      "[500]\ttraining's auc: 0.820013\tvalid_1's auc: 0.786683\n",
      "[600]\ttraining's auc: 0.828232\tvalid_1's auc: 0.78892\n",
      "[700]\ttraining's auc: 0.835321\tvalid_1's auc: 0.790367\n",
      "[800]\ttraining's auc: 0.841831\tvalid_1's auc: 0.791452\n",
      "[900]\ttraining's auc: 0.847985\tvalid_1's auc: 0.792182\n",
      "[1000]\ttraining's auc: 0.853746\tvalid_1's auc: 0.792603\n",
      "[1100]\ttraining's auc: 0.858945\tvalid_1's auc: 0.79313\n",
      "[1200]\ttraining's auc: 0.863943\tvalid_1's auc: 0.793454\n",
      "[1300]\ttraining's auc: 0.868796\tvalid_1's auc: 0.793859\n",
      "[1400]\ttraining's auc: 0.873431\tvalid_1's auc: 0.794041\n",
      "[1500]\ttraining's auc: 0.877453\tvalid_1's auc: 0.794126\n",
      "[1600]\ttraining's auc: 0.881445\tvalid_1's auc: 0.794229\n",
      "[1700]\ttraining's auc: 0.885683\tvalid_1's auc: 0.79426\n",
      "[1800]\ttraining's auc: 0.889727\tvalid_1's auc: 0.794419\n",
      "[1900]\ttraining's auc: 0.893571\tvalid_1's auc: 0.794468\n",
      "[2000]\ttraining's auc: 0.897302\tvalid_1's auc: 0.794589\n",
      "[2100]\ttraining's auc: 0.900731\tvalid_1's auc: 0.79475\n",
      "[2200]\ttraining's auc: 0.904333\tvalid_1's auc: 0.794783\n",
      "[2300]\ttraining's auc: 0.907675\tvalid_1's auc: 0.794842\n",
      "[2400]\ttraining's auc: 0.910785\tvalid_1's auc: 0.794705\n",
      "Early stopping, best iteration is:\n",
      "[2290]\ttraining's auc: 0.907408\tvalid_1's auc: 0.79487\n",
      "Fold  1 AUC : 0.794870\n",
      "Training until validation scores don't improve for 200 rounds.\n",
      "[100]\ttraining's auc: 0.755992\tvalid_1's auc: 0.745063\n",
      "[200]\ttraining's auc: 0.779868\tvalid_1's auc: 0.76206\n",
      "[300]\ttraining's auc: 0.798509\tvalid_1's auc: 0.774182\n",
      "[400]\ttraining's auc: 0.810712\tvalid_1's auc: 0.780283\n",
      "[500]\ttraining's auc: 0.820252\tvalid_1's auc: 0.783841\n",
      "[600]\ttraining's auc: 0.828308\tvalid_1's auc: 0.785955\n",
      "[700]\ttraining's auc: 0.835585\tvalid_1's auc: 0.78746\n",
      "[800]\ttraining's auc: 0.842026\tvalid_1's auc: 0.788561\n",
      "[900]\ttraining's auc: 0.848011\tvalid_1's auc: 0.789297\n",
      "[1000]\ttraining's auc: 0.853699\tvalid_1's auc: 0.79\n",
      "[1100]\ttraining's auc: 0.85895\tvalid_1's auc: 0.79069\n",
      "[1200]\ttraining's auc: 0.864189\tvalid_1's auc: 0.791042\n",
      "[1300]\ttraining's auc: 0.868876\tvalid_1's auc: 0.791321\n",
      "[1400]\ttraining's auc: 0.873198\tvalid_1's auc: 0.791596\n",
      "[1500]\ttraining's auc: 0.877945\tvalid_1's auc: 0.791802\n",
      "[1600]\ttraining's auc: 0.882129\tvalid_1's auc: 0.791929\n",
      "[1700]\ttraining's auc: 0.886191\tvalid_1's auc: 0.791895\n",
      "Early stopping, best iteration is:\n",
      "[1575]\ttraining's auc: 0.881068\tvalid_1's auc: 0.791957\n",
      "Fold  2 AUC : 0.791957\n",
      "Training until validation scores don't improve for 200 rounds.\n",
      "[100]\ttraining's auc: 0.755634\tvalid_1's auc: 0.747308\n",
      "[200]\ttraining's auc: 0.779749\tvalid_1's auc: 0.764875\n",
      "[300]\ttraining's auc: 0.79837\tvalid_1's auc: 0.776377\n",
      "[400]\ttraining's auc: 0.810438\tvalid_1's auc: 0.781847\n",
      "[500]\ttraining's auc: 0.820089\tvalid_1's auc: 0.78517\n",
      "[600]\ttraining's auc: 0.828235\tvalid_1's auc: 0.787165\n",
      "[700]\ttraining's auc: 0.835532\tvalid_1's auc: 0.788643\n",
      "[800]\ttraining's auc: 0.841966\tvalid_1's auc: 0.789514\n",
      "[900]\ttraining's auc: 0.847837\tvalid_1's auc: 0.790239\n",
      "[1000]\ttraining's auc: 0.853603\tvalid_1's auc: 0.790768\n",
      "[1100]\ttraining's auc: 0.859045\tvalid_1's auc: 0.791218\n",
      "[1200]\ttraining's auc: 0.864225\tvalid_1's auc: 0.791511\n",
      "[1300]\ttraining's auc: 0.869104\tvalid_1's auc: 0.791803\n",
      "[1400]\ttraining's auc: 0.873762\tvalid_1's auc: 0.792215\n",
      "[1500]\ttraining's auc: 0.878404\tvalid_1's auc: 0.79242\n",
      "[1600]\ttraining's auc: 0.882568\tvalid_1's auc: 0.792518\n",
      "[1700]\ttraining's auc: 0.88665\tvalid_1's auc: 0.792491\n",
      "[1800]\ttraining's auc: 0.890611\tvalid_1's auc: 0.792455\n",
      "Early stopping, best iteration is:\n",
      "[1613]\ttraining's auc: 0.883124\tvalid_1's auc: 0.792527\n",
      "Fold  3 AUC : 0.792527\n",
      "Training until validation scores don't improve for 200 rounds.\n",
      "[100]\ttraining's auc: 0.755669\tvalid_1's auc: 0.746555\n",
      "[200]\ttraining's auc: 0.779478\tvalid_1's auc: 0.764413\n",
      "[300]\ttraining's auc: 0.797984\tvalid_1's auc: 0.776323\n",
      "[400]\ttraining's auc: 0.81037\tvalid_1's auc: 0.782101\n",
      "[500]\ttraining's auc: 0.819714\tvalid_1's auc: 0.785102\n",
      "[600]\ttraining's auc: 0.827912\tvalid_1's auc: 0.786952\n",
      "[700]\ttraining's auc: 0.835092\tvalid_1's auc: 0.788155\n",
      "[800]\ttraining's auc: 0.841762\tvalid_1's auc: 0.78907\n",
      "[900]\ttraining's auc: 0.848084\tvalid_1's auc: 0.789776\n",
      "[1000]\ttraining's auc: 0.853844\tvalid_1's auc: 0.790088\n",
      "[1100]\ttraining's auc: 0.859131\tvalid_1's auc: 0.790486\n",
      "[1200]\ttraining's auc: 0.864019\tvalid_1's auc: 0.790735\n",
      "[1300]\ttraining's auc: 0.86888\tvalid_1's auc: 0.791123\n",
      "[1400]\ttraining's auc: 0.87356\tvalid_1's auc: 0.791148\n",
      "[1500]\ttraining's auc: 0.878058\tvalid_1's auc: 0.791293\n",
      "[1600]\ttraining's auc: 0.882406\tvalid_1's auc: 0.791273\n",
      "[1700]\ttraining's auc: 0.886542\tvalid_1's auc: 0.791312\n",
      "[1800]\ttraining's auc: 0.890753\tvalid_1's auc: 0.791386\n",
      "[1900]\ttraining's auc: 0.894281\tvalid_1's auc: 0.791328\n",
      "[2000]\ttraining's auc: 0.898205\tvalid_1's auc: 0.791205\n",
      "Early stopping, best iteration is:\n",
      "[1848]\ttraining's auc: 0.89242\tvalid_1's auc: 0.791468\n",
      "Fold  4 AUC : 0.791468\n",
      "Training until validation scores don't improve for 200 rounds.\n",
      "[100]\ttraining's auc: 0.755896\tvalid_1's auc: 0.741983\n",
      "[200]\ttraining's auc: 0.780129\tvalid_1's auc: 0.760228\n",
      "[300]\ttraining's auc: 0.798932\tvalid_1's auc: 0.772681\n",
      "[400]\ttraining's auc: 0.811237\tvalid_1's auc: 0.778772\n",
      "[500]\ttraining's auc: 0.82055\tvalid_1's auc: 0.782075\n",
      "[600]\ttraining's auc: 0.828757\tvalid_1's auc: 0.784043\n",
      "[700]\ttraining's auc: 0.835956\tvalid_1's auc: 0.785417\n",
      "[800]\ttraining's auc: 0.842696\tvalid_1's auc: 0.786498\n",
      "[900]\ttraining's auc: 0.848697\tvalid_1's auc: 0.787155\n",
      "[1000]\ttraining's auc: 0.854404\tvalid_1's auc: 0.787793\n",
      "[1100]\ttraining's auc: 0.859837\tvalid_1's auc: 0.788331\n",
      "[1200]\ttraining's auc: 0.864741\tvalid_1's auc: 0.788649\n",
      "[1300]\ttraining's auc: 0.869489\tvalid_1's auc: 0.788983\n",
      "[1400]\ttraining's auc: 0.874177\tvalid_1's auc: 0.789229\n",
      "[1500]\ttraining's auc: 0.87858\tvalid_1's auc: 0.7894\n",
      "[1600]\ttraining's auc: 0.882912\tvalid_1's auc: 0.789645\n",
      "[1700]\ttraining's auc: 0.886996\tvalid_1's auc: 0.789616\n",
      "[1800]\ttraining's auc: 0.890929\tvalid_1's auc: 0.789613\n",
      "Early stopping, best iteration is:\n",
      "[1627]\ttraining's auc: 0.884026\tvalid_1's auc: 0.789698\n",
      "Fold  5 AUC : 0.789698\n",
      "Full AUC score 0.792079\n"
     ]
    }
   ],
   "source": [
    "kfold(train_df, test_df, 5, stratified = False, submission=True)"
   ]
  }
 ],
 "metadata": {
  "kernelspec": {
   "display_name": "Python 3",
   "language": "python",
   "name": "python3"
  },
  "language_info": {
   "codemirror_mode": {
    "name": "ipython",
    "version": 3
   },
   "file_extension": ".py",
   "mimetype": "text/x-python",
   "name": "python",
   "nbconvert_exporter": "python",
   "pygments_lexer": "ipython3",
   "version": "3.6.4"
  }
 },
 "nbformat": 4,
 "nbformat_minor": 2
}
