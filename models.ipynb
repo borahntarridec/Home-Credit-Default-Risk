{
 "cells": [
  {
   "cell_type": "code",
   "execution_count": 1,
   "metadata": {},
   "outputs": [],
   "source": [
    "import os\n",
    "import pandas as pd\n",
    "\n",
    "from feature_engineering import *\n",
    "from lightgbm import LGBMClassifier\n",
    "from catboost import CatBoostClassifier\n",
    "from sklearn.metrics import roc_auc_score, roc_curve\n",
    "from sklearn.model_selection import KFold, StratifiedKFold\n",
    "from sklearn.ensemble import RandomForestClassifier\n",
    "from sklearn.model_selection import train_test_split"
   ]
  },
  {
   "cell_type": "code",
   "execution_count": 2,
   "metadata": {},
   "outputs": [],
   "source": [
    "DATA_PATH = '../HomeCreditDefaultRisk/Data'"
   ]
  },
  {
   "cell_type": "code",
   "execution_count": 4,
   "metadata": {},
   "outputs": [],
   "source": [
    "tables = [pd.read_csv(os.path.join(DATA_PATH, table)) for table in os.listdir(DATA_PATH) if table.endswith('csv.zip')]\n",
    "ins, prev, bureau, bb, df, cc, test_df, pos = tables"
   ]
  },
  {
   "cell_type": "code",
   "execution_count": 5,
   "metadata": {},
   "outputs": [],
   "source": [
    "# EXECUTE FE\n",
    "\n",
    "limit = None\n",
    "\n",
    "df = application_train_test(df, test_df, nan_as_category = False, limit=limit)\n",
    "bureau_agg = bureau_and_balance(bureau, bb, nan_as_category = True, limit=limit)\n",
    "prev_agg = previous_applications(prev, nan_as_category = True, limit=limit)\n",
    "pos_agg = pos_cash(pos, nan_as_category = True, limit=limit)\n",
    "ins_agg = installments_payments(ins, nan_as_category = True, limit=limit)\n",
    "cc_agg = credit_card_balance(cc, nan_as_category = True, limit=limit)"
   ]
  },
  {
   "cell_type": "code",
   "execution_count": null,
   "metadata": {},
   "outputs": [],
   "source": [
    "B2o8b1d2e1c"
   ]
  },
  {
   "cell_type": "code",
   "execution_count": null,
   "metadata": {},
   "outputs": [],
   "source": [
    "pos_agg = pos_agg.reset_index()\n",
    "#ins_agg = ins_agg.reset_index()\n",
    "cc_agg = cc_agg.reset_index()"
   ]
  },
  {
   "cell_type": "code",
   "execution_count": null,
   "metadata": {},
   "outputs": [],
   "source": [
    "# MERGE ALL\n",
    "\n",
    "def merge(df,bureau_agg,prev_agg,pos_agg,cc_agg):\n",
    "    \n",
    "    df = (df\n",
    "           .merge(bureau_agg, how='left', on='SK_ID_CURR')\n",
    "           .merge(prev_agg, how='left', on='SK_ID_CURR')\n",
    "           .merge(pos_agg, how='left', on='SK_ID_CURR')\n",
    "           .merge(ins_agg, how='left', on='SK_ID_CURR')\n",
    "           .merge(cc_agg, how='left', on='SK_ID_CURR')\n",
    "          )\n",
    "    \n",
    "    del bureau_agg\n",
    "    del prev_agg\n",
    "    del pos_agg\n",
    "    del ins_agg\n",
    "    del cc_agg\n",
    "    \n",
    "    return df"
   ]
  },
  {
   "cell_type": "code",
   "execution_count": null,
   "metadata": {},
   "outputs": [],
   "source": [
    "df = merge(df, bureau_agg, prev_agg, pos_agg, cc_agg)"
   ]
  },
  {
   "cell_type": "code",
   "execution_count": null,
   "metadata": {},
   "outputs": [],
   "source": [
    "# SHARE MISSING VALUES\n",
    "\n",
    "df['SHARE_NAN'] = df.isnull().sum(axis=1) / df.shape[1]"
   ]
  },
  {
   "cell_type": "code",
   "execution_count": null,
   "metadata": {},
   "outputs": [],
   "source": [
    "# SPLIT TRAIN AND TEST\n",
    "\n",
    "train_df = df[df['TARGET'].notnull()]\n",
    "test_df = df[df['TARGET'].isnull()]\n",
    "del df"
   ]
  },
  {
   "cell_type": "code",
   "execution_count": null,
   "metadata": {},
   "outputs": [],
   "source": [
    "# FILLNA BY A SINGLE VALUE TO GIVE A SIGNAL\n",
    "\n",
    "train_df.replace([np.inf, -np.inf], np.nan, inplace=True)\n",
    "test_df.replace([np.inf, -np.inf], np.nan, inplace=True)\n",
    "\n",
    "train_df.fillna(-1, inplace=True)\n",
    "test_df.fillna(-1, inplace=True)\n",
    "\n",
    "assert train_df.isnull().sum().sum() == test_df.isnull().sum().sum() == 0"
   ]
  },
  {
   "cell_type": "code",
   "execution_count": null,
   "metadata": {},
   "outputs": [],
   "source": []
  }
 ],
 "metadata": {
  "kernelspec": {
   "display_name": "Python 3",
   "language": "python",
   "name": "python3"
  },
  "language_info": {
   "codemirror_mode": {
    "name": "ipython",
    "version": 3
   },
   "file_extension": ".py",
   "mimetype": "text/x-python",
   "name": "python",
   "nbconvert_exporter": "python",
   "pygments_lexer": "ipython3",
   "version": "3.6.4"
  }
 },
 "nbformat": 4,
 "nbformat_minor": 2
}
